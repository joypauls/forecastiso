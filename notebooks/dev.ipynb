{
 "cells": [
  {
   "cell_type": "markdown",
   "id": "6013978e",
   "metadata": {},
   "source": [
    "# Development\n",
    "\n",
    "All code here is experimental. Please see README for current usage instructions."
   ]
  },
  {
   "cell_type": "code",
   "execution_count": null,
   "id": "fd6c0ff1",
   "metadata": {},
   "outputs": [],
   "source": [
    "import pandas as pd\n",
    "import matplotlib.pyplot as plt\n",
    "\n",
    "# plt.style.use(\"seaborn-v0_8-paper\")\n",
    "# plt.style.use(\"bmh\")\n",
    "\n",
    "DATA_DIR = \"../data/hourly_demand/\""
   ]
  },
  {
   "cell_type": "code",
   "execution_count": null,
   "id": "b36ffcfd",
   "metadata": {},
   "outputs": [],
   "source": []
  },
  {
   "cell_type": "code",
   "execution_count": null,
   "id": "56d0b52a",
   "metadata": {},
   "outputs": [],
   "source": []
  },
  {
   "cell_type": "code",
   "execution_count": null,
   "id": "6ad30e0d",
   "metadata": {},
   "outputs": [],
   "source": []
  },
  {
   "cell_type": "code",
   "execution_count": null,
   "id": "f4be6b72",
   "metadata": {},
   "outputs": [],
   "source": []
  },
  {
   "cell_type": "code",
   "execution_count": null,
   "id": "7d7d7e3e",
   "metadata": {},
   "outputs": [],
   "source": []
  }
 ],
 "metadata": {
  "kernelspec": {
   "display_name": "forecastiso-4Mns-O0d-py3.13",
   "language": "python",
   "name": "python3"
  },
  "language_info": {
   "name": "python",
   "version": "3.13.1"
  }
 },
 "nbformat": 4,
 "nbformat_minor": 5
}
